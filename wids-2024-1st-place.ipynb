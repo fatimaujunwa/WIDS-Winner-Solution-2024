{
 "cells": [
  {
   "cell_type": "markdown",
   "id": "71663e6f",
   "metadata": {
    "papermill": {
     "duration": 0.008144,
     "end_time": "2024-03-06T12:26:49.944037",
     "exception": false,
     "start_time": "2024-03-06T12:26:49.935893",
     "status": "completed"
    },
    "tags": []
   },
   "source": []
  },
  {
   "cell_type": "markdown",
   "id": "e5b93776",
   "metadata": {
    "papermill": {
     "duration": 0.006214,
     "end_time": "2024-03-06T12:26:49.957676",
     "exception": false,
     "start_time": "2024-03-06T12:26:49.951462",
     "status": "completed"
    },
    "tags": []
   },
   "source": []
  },
  {
   "cell_type": "code",
   "execution_count": 1,
   "id": "09a2b582",
   "metadata": {
    "execution": {
     "iopub.execute_input": "2024-03-06T12:26:49.973467Z",
     "iopub.status.busy": "2024-03-06T12:26:49.972912Z",
     "iopub.status.idle": "2024-03-06T12:26:50.987882Z",
     "shell.execute_reply": "2024-03-06T12:26:50.986704Z"
    },
    "papermill": {
     "duration": 1.026299,
     "end_time": "2024-03-06T12:26:50.990414",
     "exception": false,
     "start_time": "2024-03-06T12:26:49.964115",
     "status": "completed"
    },
    "tags": []
   },
   "outputs": [
    {
     "name": "stdout",
     "output_type": "stream",
     "text": [
      "/kaggle/input/widsdatathon2024-challenge1/sample_submission.csv\n",
      "/kaggle/input/widsdatathon2024-challenge1/training.csv\n",
      "/kaggle/input/widsdatathon2024-challenge1/test.csv\n"
     ]
    }
   ],
   "source": [
    "# This Python 3 environment comes with many helpful analytics libraries installed\n",
    "# It is defined by the kaggle/python Docker image: https://github.com/kaggle/docker-python\n",
    "# For example, here's several helpful packages to load\n",
    "\n",
    "import numpy as np # linear algebra\n",
    "import pandas as pd # data processing, CSV file I/O (e.g. pd.read_csv)\n",
    "\n",
    "# Input data files are available in the read-only \"../input/\" directory\n",
    "# For example, running this (by clicking run or pressing Shift+Enter) will list all files under the input directory\n",
    "\n",
    "import os\n",
    "for dirname, _, filenames in os.walk('/kaggle/input'):\n",
    "    for filename in filenames:\n",
    "        print(os.path.join(dirname, filename))\n",
    "\n",
    "# You can write up to 20GB to the current directory (/kaggle/working/) that gets preserved as output when you create a version using \"Save & Run All\" \n",
    "# You can also write temporary files to /kaggle/temp/, but they won't be saved outside of the current session"
   ]
  },
  {
   "cell_type": "code",
   "execution_count": 2,
   "id": "fde8da3f",
   "metadata": {
    "execution": {
     "iopub.execute_input": "2024-03-06T12:26:51.006338Z",
     "iopub.status.busy": "2024-03-06T12:26:51.005476Z",
     "iopub.status.idle": "2024-03-06T12:26:51.731457Z",
     "shell.execute_reply": "2024-03-06T12:26:51.730230Z"
    },
    "papermill": {
     "duration": 0.737293,
     "end_time": "2024-03-06T12:26:51.734312",
     "exception": false,
     "start_time": "2024-03-06T12:26:50.997019",
     "status": "completed"
    },
    "tags": []
   },
   "outputs": [],
   "source": [
    "# Load Competiton Datasets and drop breast_cancer_diagnosis_code\n",
    "df = pd.read_csv(\"/kaggle/input/widsdatathon2024-challenge1/training.csv\").drop(\"breast_cancer_diagnosis_code\",axis=1)\n",
    "tdf = pd.read_csv(\"/kaggle/input/widsdatathon2024-challenge1/test.csv\").drop(\"breast_cancer_diagnosis_code\",axis=1)\n",
    "ss = pd.read_csv(\"/kaggle/input/widsdatathon2024-challenge1/sample_submission.csv\")"
   ]
  },
  {
   "cell_type": "markdown",
   "id": "3488beb4",
   "metadata": {
    "papermill": {
     "duration": 0.006385,
     "end_time": "2024-03-06T12:26:51.747582",
     "exception": false,
     "start_time": "2024-03-06T12:26:51.741197",
     "status": "completed"
    },
    "tags": []
   },
   "source": [
    "- # Data Cleaning"
   ]
  },
  {
   "cell_type": "code",
   "execution_count": 3,
   "id": "14a4f758",
   "metadata": {
    "execution": {
     "iopub.execute_input": "2024-03-06T12:26:51.764270Z",
     "iopub.status.busy": "2024-03-06T12:26:51.763209Z",
     "iopub.status.idle": "2024-03-06T12:26:51.774226Z",
     "shell.execute_reply": "2024-03-06T12:26:51.773136Z"
    },
    "papermill": {
     "duration": 0.02196,
     "end_time": "2024-03-06T12:26:51.776566",
     "exception": false,
     "start_time": "2024-03-06T12:26:51.754606",
     "status": "completed"
    },
    "tags": []
   },
   "outputs": [],
   "source": [
    "#  Find Product of Pollutants\n",
    "df[\"N02\"]=df[\"N02\"]*df[\"Ozone\"]*df[\"PM25\"]\n",
    "tdf[\"N02\"]=tdf[\"N02\"]*tdf[\"Ozone\"]*tdf[\"PM25\"]"
   ]
  },
  {
   "cell_type": "code",
   "execution_count": 4,
   "id": "e6163eb7",
   "metadata": {
    "execution": {
     "iopub.execute_input": "2024-03-06T12:26:51.792224Z",
     "iopub.status.busy": "2024-03-06T12:26:51.791781Z",
     "iopub.status.idle": "2024-03-06T12:26:52.502642Z",
     "shell.execute_reply": "2024-03-06T12:26:52.501497Z"
    },
    "papermill": {
     "duration": 0.721738,
     "end_time": "2024-03-06T12:26:52.505252",
     "exception": false,
     "start_time": "2024-03-06T12:26:51.783514",
     "status": "completed"
    },
    "tags": []
   },
   "outputs": [
    {
     "name": "stdout",
     "output_type": "stream",
     "text": [
      "dropped  patient_gender\n",
      "dropped  metastatic_first_novel_treatment\n",
      "dropped  metastatic_first_novel_treatment_type\n",
      "dropped  population\n",
      "dropped  density\n",
      "dropped  age_median\n",
      "dropped  age_under_10\n",
      "dropped  age_10_to_19\n",
      "dropped  age_20s\n",
      "dropped  age_30s\n",
      "dropped  age_40s\n",
      "dropped  age_50s\n",
      "dropped  age_60s\n",
      "dropped  age_70s\n",
      "dropped  age_over_80\n",
      "dropped  male\n",
      "dropped  female\n",
      "dropped  married\n",
      "dropped  divorced\n",
      "dropped  never_married\n",
      "dropped  widowed\n",
      "dropped  family_size\n",
      "dropped  family_dual_income\n",
      "dropped  income_household_median\n",
      "dropped  income_household_under_5\n",
      "dropped  income_household_5_to_10\n",
      "dropped  income_household_10_to_15\n",
      "dropped  income_household_15_to_20\n",
      "dropped  income_household_20_to_25\n",
      "dropped  income_household_25_to_35\n",
      "dropped  income_household_35_to_50\n",
      "dropped  income_household_50_to_75\n",
      "dropped  income_household_75_to_100\n",
      "dropped  income_household_100_to_150\n",
      "dropped  income_household_150_over\n",
      "dropped  income_household_six_figure\n",
      "dropped  income_individual_median\n",
      "dropped  home_ownership\n",
      "dropped  housing_units\n",
      "dropped  home_value\n",
      "dropped  rent_median\n",
      "dropped  rent_burden\n",
      "dropped  education_less_highschool\n",
      "dropped  education_highschool\n",
      "dropped  education_some_college\n",
      "dropped  education_bachelors\n",
      "dropped  education_graduate\n",
      "dropped  education_college_or_above\n",
      "dropped  education_stem_degree\n",
      "dropped  labor_force_participation\n",
      "dropped  unemployment_rate\n",
      "dropped  self_employed\n",
      "dropped  farmer\n",
      "dropped  race_white\n",
      "dropped  race_black\n",
      "dropped  race_asian\n",
      "dropped  race_native\n",
      "dropped  race_pacific\n",
      "dropped  race_other\n",
      "dropped  race_multiple\n",
      "dropped  hispanic\n",
      "dropped  disabled\n",
      "dropped  poverty\n",
      "dropped  limited_english\n",
      "dropped  commute_time\n",
      "dropped  health_uninsured\n",
      "dropped  veteran\n",
      "dropped  Ozone\n",
      "dropped  PM25\n"
     ]
    }
   ],
   "source": [
    "# Drop some features\n",
    "for col in df.drop([\"patient_zip3\",\"N02\"],axis=1).columns:\n",
    "    df[\"check\"]=df.groupby([\"patient_zip3\",\"N02\"])[col].transform(\"nunique\")\n",
    "    if df[\"check\"].max()==1:\n",
    "        print(\"dropped \",col)\n",
    "        df=df.drop(col,axis=1)\n",
    "        tdf=tdf.drop(col,axis=1)\n",
    "df=df.drop(\"check\",axis=1)"
   ]
  },
  {
   "cell_type": "code",
   "execution_count": 5,
   "id": "e66e9bb8",
   "metadata": {
    "execution": {
     "iopub.execute_input": "2024-03-06T12:26:52.522038Z",
     "iopub.status.busy": "2024-03-06T12:26:52.520845Z",
     "iopub.status.idle": "2024-03-06T12:26:52.531207Z",
     "shell.execute_reply": "2024-03-06T12:26:52.530116Z"
    },
    "papermill": {
     "duration": 0.021435,
     "end_time": "2024-03-06T12:26:52.533641",
     "exception": false,
     "start_time": "2024-03-06T12:26:52.512206",
     "status": "completed"
    },
    "tags": []
   },
   "outputs": [],
   "source": [
    "# define target variable and categorical features\n",
    "target = \"DiagPeriodL90D\"\n",
    "cat_cols = list(tdf.columns[tdf.dtypes==\"object\"])\n",
    "cols = list(tdf.drop([\"patient_id\"],axis=1).columns)\n",
    "tdf[target] = np.nan"
   ]
  },
  {
   "cell_type": "code",
   "execution_count": 6,
   "id": "b30915e2",
   "metadata": {
    "execution": {
     "iopub.execute_input": "2024-03-06T12:26:52.550270Z",
     "iopub.status.busy": "2024-03-06T12:26:52.549758Z",
     "iopub.status.idle": "2024-03-06T12:26:52.561705Z",
     "shell.execute_reply": "2024-03-06T12:26:52.560395Z"
    },
    "papermill": {
     "duration": 0.023668,
     "end_time": "2024-03-06T12:26:52.564684",
     "exception": false,
     "start_time": "2024-03-06T12:26:52.541016",
     "status": "completed"
    },
    "tags": []
   },
   "outputs": [],
   "source": [
    "# concatenate train and test set\n",
    "df = pd.concat([df,tdf[df.columns]],axis=0)"
   ]
  },
  {
   "cell_type": "markdown",
   "id": "f3a622a6",
   "metadata": {
    "papermill": {
     "duration": 0.007906,
     "end_time": "2024-03-06T12:26:52.580087",
     "exception": false,
     "start_time": "2024-03-06T12:26:52.572181",
     "status": "completed"
    },
    "tags": []
   },
   "source": [
    "- # Feature Engineering"
   ]
  },
  {
   "cell_type": "code",
   "execution_count": 7,
   "id": "37788c7b",
   "metadata": {
    "execution": {
     "iopub.execute_input": "2024-03-06T12:26:52.597856Z",
     "iopub.status.busy": "2024-03-06T12:26:52.596382Z",
     "iopub.status.idle": "2024-03-06T12:26:52.622863Z",
     "shell.execute_reply": "2024-03-06T12:26:52.621522Z"
    },
    "papermill": {
     "duration": 0.038581,
     "end_time": "2024-03-06T12:26:52.626124",
     "exception": false,
     "start_time": "2024-03-06T12:26:52.587543",
     "status": "completed"
    },
    "tags": []
   },
   "outputs": [],
   "source": [
    "df[\"clust\"]=(df.metastatic_cancer_diagnosis_code.str.len()==4).astype(\"int\")\n",
    "df[\"is_female\"] = df.breast_cancer_diagnosis_desc.str.contains(\"female\").astype(\"int\")"
   ]
  },
  {
   "cell_type": "code",
   "execution_count": 8,
   "id": "1c15c720",
   "metadata": {
    "execution": {
     "iopub.execute_input": "2024-03-06T12:26:52.642595Z",
     "iopub.status.busy": "2024-03-06T12:26:52.642125Z",
     "iopub.status.idle": "2024-03-06T12:26:52.907663Z",
     "shell.execute_reply": "2024-03-06T12:26:52.906454Z"
    },
    "papermill": {
     "duration": 0.277149,
     "end_time": "2024-03-06T12:26:52.910426",
     "exception": false,
     "start_time": "2024-03-06T12:26:52.633277",
     "status": "completed"
    },
    "tags": []
   },
   "outputs": [
    {
     "data": {
      "text/plain": [
       "['Region',\n",
       " 'payer_type',\n",
       " 'breast_cancer_diagnosis_desc',\n",
       " 'patient_state',\n",
       " 'patient_zip3',\n",
       " 'Division',\n",
       " 'metastatic_cancer_diagnosis_code',\n",
       " 'patient_race']"
      ]
     },
     "execution_count": 8,
     "metadata": {},
     "output_type": "execute_result"
    }
   ],
   "source": [
    "# do one-hot encoding for some features\n",
    "age_cols = list(df.filter(regex=\"age\").columns)\n",
    "cols = list(set(cols)-set(age_cols))\n",
    "income_cols = list(df.filter(regex=\"income\").columns)\n",
    "cols = list(set(cols)-set(income_cols))\n",
    "cols = list(set(cols)-{\"breast_cancer_diagnosis_code\",\"N02\",\"bmi\"})\n",
    "df=pd.get_dummies(df,columns=cols,dtype=\"int\",drop_first=True)\n",
    "cols"
   ]
  },
  {
   "cell_type": "code",
   "execution_count": 9,
   "id": "fee52805",
   "metadata": {
    "execution": {
     "iopub.execute_input": "2024-03-06T12:26:52.926567Z",
     "iopub.status.busy": "2024-03-06T12:26:52.926121Z",
     "iopub.status.idle": "2024-03-06T12:26:54.068063Z",
     "shell.execute_reply": "2024-03-06T12:26:54.067004Z"
    },
    "papermill": {
     "duration": 1.153625,
     "end_time": "2024-03-06T12:26:54.071137",
     "exception": false,
     "start_time": "2024-03-06T12:26:52.917512",
     "status": "completed"
    },
    "tags": []
   },
   "outputs": [],
   "source": [
    "# do label encoding for some columns\n",
    "from sklearn.preprocessing import LabelEncoder\n",
    "le=LabelEncoder()\n",
    "for col in cat_cols:\n",
    "    try:\n",
    "        df[col]=le.fit_transform(df[col]).astype(\"int\")\n",
    "    except:\n",
    "        continue"
   ]
  },
  {
   "cell_type": "markdown",
   "id": "750a297a",
   "metadata": {
    "papermill": {
     "duration": 0.006808,
     "end_time": "2024-03-06T12:26:54.085017",
     "exception": false,
     "start_time": "2024-03-06T12:26:54.078209",
     "status": "completed"
    },
    "tags": []
   },
   "source": [
    "- # Modelling"
   ]
  },
  {
   "cell_type": "code",
   "execution_count": 10,
   "id": "e1ea3b03",
   "metadata": {
    "execution": {
     "iopub.execute_input": "2024-03-06T12:26:54.101113Z",
     "iopub.status.busy": "2024-03-06T12:26:54.100040Z",
     "iopub.status.idle": "2024-03-06T12:26:54.222896Z",
     "shell.execute_reply": "2024-03-06T12:26:54.221571Z"
    },
    "papermill": {
     "duration": 0.133314,
     "end_time": "2024-03-06T12:26:54.225257",
     "exception": false,
     "start_time": "2024-03-06T12:26:54.091943",
     "status": "completed"
    },
    "tags": []
   },
   "outputs": [
    {
     "data": {
      "text/plain": [
       "(12906, 5792)"
      ]
     },
     "execution_count": 10,
     "metadata": {},
     "output_type": "execute_result"
    }
   ],
   "source": [
    "tdf=df[df[target].isna()]\n",
    "df=df[df[target].notna()]\n",
    "len(df),len(tdf)"
   ]
  },
  {
   "cell_type": "code",
   "execution_count": 11,
   "id": "1d42f7ea",
   "metadata": {
    "execution": {
     "iopub.execute_input": "2024-03-06T12:26:54.241711Z",
     "iopub.status.busy": "2024-03-06T12:26:54.241234Z",
     "iopub.status.idle": "2024-03-06T12:26:55.034580Z",
     "shell.execute_reply": "2024-03-06T12:26:55.032887Z"
    },
    "papermill": {
     "duration": 0.806108,
     "end_time": "2024-03-06T12:26:55.038517",
     "exception": false,
     "start_time": "2024-03-06T12:26:54.232409",
     "status": "completed"
    },
    "tags": []
   },
   "outputs": [],
   "source": [
    "from sklearn.linear_model import LogisticRegression\n",
    "import catboost\n",
    "import xgboost\n",
    "from xgboost import XGBClassifier\n",
    "from catboost import CatBoostClassifier"
   ]
  },
  {
   "cell_type": "code",
   "execution_count": 12,
   "id": "e3cfd5f3",
   "metadata": {
    "execution": {
     "iopub.execute_input": "2024-03-06T12:26:55.056126Z",
     "iopub.status.busy": "2024-03-06T12:26:55.055635Z",
     "iopub.status.idle": "2024-03-06T12:26:55.065677Z",
     "shell.execute_reply": "2024-03-06T12:26:55.064325Z"
    },
    "papermill": {
     "duration": 0.022314,
     "end_time": "2024-03-06T12:26:55.069115",
     "exception": false,
     "start_time": "2024-03-06T12:26:55.046801",
     "status": "completed"
    },
    "tags": []
   },
   "outputs": [],
   "source": [
    "modela = CatBoostClassifier(iterations=500, silent=True, learning_rate=0.05, depth=10, eval_metric='AUC', random_seed=42)\n",
    "modelb = CatBoostClassifier(iterations=500, silent=True, learning_rate=0.05, depth=10, eval_metric='AUC', random_seed=42)\n",
    "model2a = XGBClassifier(\n",
    "    learning_rate=0.1,\n",
    "    max_depth=6,\n",
    "    n_estimators=100,\n",
    "    subsample=0.9\n",
    ")"
   ]
  },
  {
   "cell_type": "code",
   "execution_count": 13,
   "id": "45077394",
   "metadata": {
    "execution": {
     "iopub.execute_input": "2024-03-06T12:26:55.085640Z",
     "iopub.status.busy": "2024-03-06T12:26:55.085164Z",
     "iopub.status.idle": "2024-03-06T12:26:55.092069Z",
     "shell.execute_reply": "2024-03-06T12:26:55.090600Z"
    },
    "papermill": {
     "duration": 0.018564,
     "end_time": "2024-03-06T12:26:55.094865",
     "exception": false,
     "start_time": "2024-03-06T12:26:55.076301",
     "status": "completed"
    },
    "tags": []
   },
   "outputs": [],
   "source": [
    "# finalize features for training\n",
    "drop_cols=[\"patient_id\",target,\"patient_zip3\",\"patient_state\"]\n",
    "cols=list(set(df.columns)-set(drop_cols))"
   ]
  },
  {
   "cell_type": "code",
   "execution_count": 14,
   "id": "33acc1d9",
   "metadata": {
    "execution": {
     "iopub.execute_input": "2024-03-06T12:26:55.110693Z",
     "iopub.status.busy": "2024-03-06T12:26:55.110258Z",
     "iopub.status.idle": "2024-03-06T12:26:55.116344Z",
     "shell.execute_reply": "2024-03-06T12:26:55.115213Z"
    },
    "papermill": {
     "duration": 0.017031,
     "end_time": "2024-03-06T12:26:55.118842",
     "exception": false,
     "start_time": "2024-03-06T12:26:55.101811",
     "status": "completed"
    },
    "tags": []
   },
   "outputs": [],
   "source": [
    "# Define the number of folds\n",
    "num_folds = 10\n",
    "from sklearn.model_selection import StratifiedKFold\n",
    "kf = StratifiedKFold(n_splits=num_folds, shuffle=True, random_state=42)"
   ]
  },
  {
   "cell_type": "code",
   "execution_count": 15,
   "id": "d36198eb",
   "metadata": {
    "execution": {
     "iopub.execute_input": "2024-03-06T12:26:55.134986Z",
     "iopub.status.busy": "2024-03-06T12:26:55.134521Z",
     "iopub.status.idle": "2024-03-06T12:26:55.140751Z",
     "shell.execute_reply": "2024-03-06T12:26:55.139398Z"
    },
    "papermill": {
     "duration": 0.018053,
     "end_time": "2024-03-06T12:26:55.144147",
     "exception": false,
     "start_time": "2024-03-06T12:26:55.126094",
     "status": "completed"
    },
    "tags": []
   },
   "outputs": [],
   "source": [
    "# use stacking method, define meta model\n",
    "from sklearn.linear_model import LogisticRegression\n",
    "meta_model = LogisticRegression()\n",
    "meta_features=['pred1b','pred2','pred1']"
   ]
  },
  {
   "cell_type": "code",
   "execution_count": 16,
   "id": "11935c7d",
   "metadata": {
    "execution": {
     "iopub.execute_input": "2024-03-06T12:26:55.163061Z",
     "iopub.status.busy": "2024-03-06T12:26:55.162587Z",
     "iopub.status.idle": "2024-03-06T12:34:18.872796Z",
     "shell.execute_reply": "2024-03-06T12:34:18.871414Z"
    },
    "papermill": {
     "duration": 443.724425,
     "end_time": "2024-03-06T12:34:18.875942",
     "exception": false,
     "start_time": "2024-03-06T12:26:55.151517",
     "status": "completed"
    },
    "tags": []
   },
   "outputs": [
    {
     "name": "stderr",
     "output_type": "stream",
     "text": [
      "/tmp/ipykernel_18/2102747675.py:7: SettingWithCopyWarning: \n",
      "A value is trying to be set on a copy of a slice from a DataFrame.\n",
      "Try using .loc[row_indexer,col_indexer] = value instead\n",
      "\n",
      "See the caveats in the documentation: https://pandas.pydata.org/pandas-docs/stable/user_guide/indexing.html#returning-a-view-versus-a-copy\n",
      "  efx[\"pred1\"] = modela.fit(dfx[cols].values, dfx[target]).predict_proba(efx[cols].values)[:,1]\n",
      "/tmp/ipykernel_18/2102747675.py:8: SettingWithCopyWarning: \n",
      "A value is trying to be set on a copy of a slice from a DataFrame.\n",
      "Try using .loc[row_indexer,col_indexer] = value instead\n",
      "\n",
      "See the caveats in the documentation: https://pandas.pydata.org/pandas-docs/stable/user_guide/indexing.html#returning-a-view-versus-a-copy\n",
      "  efx[\"pred2\"] = modelb.fit(dfx[cols].values, dfx[target]).predict_proba(efx[cols].values)[:,1]\n",
      "/tmp/ipykernel_18/2102747675.py:9: SettingWithCopyWarning: \n",
      "A value is trying to be set on a copy of a slice from a DataFrame.\n",
      "Try using .loc[row_indexer,col_indexer] = value instead\n",
      "\n",
      "See the caveats in the documentation: https://pandas.pydata.org/pandas-docs/stable/user_guide/indexing.html#returning-a-view-versus-a-copy\n",
      "  efx[\"pred1b\"] = model2a.fit(dfx[cols].values, dfx[target]).predict_proba(efx[cols].values)[:,1]\n",
      "/tmp/ipykernel_18/2102747675.py:7: SettingWithCopyWarning: \n",
      "A value is trying to be set on a copy of a slice from a DataFrame.\n",
      "Try using .loc[row_indexer,col_indexer] = value instead\n",
      "\n",
      "See the caveats in the documentation: https://pandas.pydata.org/pandas-docs/stable/user_guide/indexing.html#returning-a-view-versus-a-copy\n",
      "  efx[\"pred1\"] = modela.fit(dfx[cols].values, dfx[target]).predict_proba(efx[cols].values)[:,1]\n",
      "/tmp/ipykernel_18/2102747675.py:8: SettingWithCopyWarning: \n",
      "A value is trying to be set on a copy of a slice from a DataFrame.\n",
      "Try using .loc[row_indexer,col_indexer] = value instead\n",
      "\n",
      "See the caveats in the documentation: https://pandas.pydata.org/pandas-docs/stable/user_guide/indexing.html#returning-a-view-versus-a-copy\n",
      "  efx[\"pred2\"] = modelb.fit(dfx[cols].values, dfx[target]).predict_proba(efx[cols].values)[:,1]\n",
      "/tmp/ipykernel_18/2102747675.py:9: SettingWithCopyWarning: \n",
      "A value is trying to be set on a copy of a slice from a DataFrame.\n",
      "Try using .loc[row_indexer,col_indexer] = value instead\n",
      "\n",
      "See the caveats in the documentation: https://pandas.pydata.org/pandas-docs/stable/user_guide/indexing.html#returning-a-view-versus-a-copy\n",
      "  efx[\"pred1b\"] = model2a.fit(dfx[cols].values, dfx[target]).predict_proba(efx[cols].values)[:,1]\n",
      "/tmp/ipykernel_18/2102747675.py:7: SettingWithCopyWarning: \n",
      "A value is trying to be set on a copy of a slice from a DataFrame.\n",
      "Try using .loc[row_indexer,col_indexer] = value instead\n",
      "\n",
      "See the caveats in the documentation: https://pandas.pydata.org/pandas-docs/stable/user_guide/indexing.html#returning-a-view-versus-a-copy\n",
      "  efx[\"pred1\"] = modela.fit(dfx[cols].values, dfx[target]).predict_proba(efx[cols].values)[:,1]\n",
      "/tmp/ipykernel_18/2102747675.py:8: SettingWithCopyWarning: \n",
      "A value is trying to be set on a copy of a slice from a DataFrame.\n",
      "Try using .loc[row_indexer,col_indexer] = value instead\n",
      "\n",
      "See the caveats in the documentation: https://pandas.pydata.org/pandas-docs/stable/user_guide/indexing.html#returning-a-view-versus-a-copy\n",
      "  efx[\"pred2\"] = modelb.fit(dfx[cols].values, dfx[target]).predict_proba(efx[cols].values)[:,1]\n",
      "/tmp/ipykernel_18/2102747675.py:9: SettingWithCopyWarning: \n",
      "A value is trying to be set on a copy of a slice from a DataFrame.\n",
      "Try using .loc[row_indexer,col_indexer] = value instead\n",
      "\n",
      "See the caveats in the documentation: https://pandas.pydata.org/pandas-docs/stable/user_guide/indexing.html#returning-a-view-versus-a-copy\n",
      "  efx[\"pred1b\"] = model2a.fit(dfx[cols].values, dfx[target]).predict_proba(efx[cols].values)[:,1]\n",
      "/tmp/ipykernel_18/2102747675.py:7: SettingWithCopyWarning: \n",
      "A value is trying to be set on a copy of a slice from a DataFrame.\n",
      "Try using .loc[row_indexer,col_indexer] = value instead\n",
      "\n",
      "See the caveats in the documentation: https://pandas.pydata.org/pandas-docs/stable/user_guide/indexing.html#returning-a-view-versus-a-copy\n",
      "  efx[\"pred1\"] = modela.fit(dfx[cols].values, dfx[target]).predict_proba(efx[cols].values)[:,1]\n",
      "/tmp/ipykernel_18/2102747675.py:8: SettingWithCopyWarning: \n",
      "A value is trying to be set on a copy of a slice from a DataFrame.\n",
      "Try using .loc[row_indexer,col_indexer] = value instead\n",
      "\n",
      "See the caveats in the documentation: https://pandas.pydata.org/pandas-docs/stable/user_guide/indexing.html#returning-a-view-versus-a-copy\n",
      "  efx[\"pred2\"] = modelb.fit(dfx[cols].values, dfx[target]).predict_proba(efx[cols].values)[:,1]\n",
      "/tmp/ipykernel_18/2102747675.py:9: SettingWithCopyWarning: \n",
      "A value is trying to be set on a copy of a slice from a DataFrame.\n",
      "Try using .loc[row_indexer,col_indexer] = value instead\n",
      "\n",
      "See the caveats in the documentation: https://pandas.pydata.org/pandas-docs/stable/user_guide/indexing.html#returning-a-view-versus-a-copy\n",
      "  efx[\"pred1b\"] = model2a.fit(dfx[cols].values, dfx[target]).predict_proba(efx[cols].values)[:,1]\n",
      "/tmp/ipykernel_18/2102747675.py:7: SettingWithCopyWarning: \n",
      "A value is trying to be set on a copy of a slice from a DataFrame.\n",
      "Try using .loc[row_indexer,col_indexer] = value instead\n",
      "\n",
      "See the caveats in the documentation: https://pandas.pydata.org/pandas-docs/stable/user_guide/indexing.html#returning-a-view-versus-a-copy\n",
      "  efx[\"pred1\"] = modela.fit(dfx[cols].values, dfx[target]).predict_proba(efx[cols].values)[:,1]\n",
      "/tmp/ipykernel_18/2102747675.py:8: SettingWithCopyWarning: \n",
      "A value is trying to be set on a copy of a slice from a DataFrame.\n",
      "Try using .loc[row_indexer,col_indexer] = value instead\n",
      "\n",
      "See the caveats in the documentation: https://pandas.pydata.org/pandas-docs/stable/user_guide/indexing.html#returning-a-view-versus-a-copy\n",
      "  efx[\"pred2\"] = modelb.fit(dfx[cols].values, dfx[target]).predict_proba(efx[cols].values)[:,1]\n",
      "/tmp/ipykernel_18/2102747675.py:9: SettingWithCopyWarning: \n",
      "A value is trying to be set on a copy of a slice from a DataFrame.\n",
      "Try using .loc[row_indexer,col_indexer] = value instead\n",
      "\n",
      "See the caveats in the documentation: https://pandas.pydata.org/pandas-docs/stable/user_guide/indexing.html#returning-a-view-versus-a-copy\n",
      "  efx[\"pred1b\"] = model2a.fit(dfx[cols].values, dfx[target]).predict_proba(efx[cols].values)[:,1]\n",
      "/tmp/ipykernel_18/2102747675.py:7: SettingWithCopyWarning: \n",
      "A value is trying to be set on a copy of a slice from a DataFrame.\n",
      "Try using .loc[row_indexer,col_indexer] = value instead\n",
      "\n",
      "See the caveats in the documentation: https://pandas.pydata.org/pandas-docs/stable/user_guide/indexing.html#returning-a-view-versus-a-copy\n",
      "  efx[\"pred1\"] = modela.fit(dfx[cols].values, dfx[target]).predict_proba(efx[cols].values)[:,1]\n",
      "/tmp/ipykernel_18/2102747675.py:8: SettingWithCopyWarning: \n",
      "A value is trying to be set on a copy of a slice from a DataFrame.\n",
      "Try using .loc[row_indexer,col_indexer] = value instead\n",
      "\n",
      "See the caveats in the documentation: https://pandas.pydata.org/pandas-docs/stable/user_guide/indexing.html#returning-a-view-versus-a-copy\n",
      "  efx[\"pred2\"] = modelb.fit(dfx[cols].values, dfx[target]).predict_proba(efx[cols].values)[:,1]\n",
      "/tmp/ipykernel_18/2102747675.py:9: SettingWithCopyWarning: \n",
      "A value is trying to be set on a copy of a slice from a DataFrame.\n",
      "Try using .loc[row_indexer,col_indexer] = value instead\n",
      "\n",
      "See the caveats in the documentation: https://pandas.pydata.org/pandas-docs/stable/user_guide/indexing.html#returning-a-view-versus-a-copy\n",
      "  efx[\"pred1b\"] = model2a.fit(dfx[cols].values, dfx[target]).predict_proba(efx[cols].values)[:,1]\n",
      "/tmp/ipykernel_18/2102747675.py:7: SettingWithCopyWarning: \n",
      "A value is trying to be set on a copy of a slice from a DataFrame.\n",
      "Try using .loc[row_indexer,col_indexer] = value instead\n",
      "\n",
      "See the caveats in the documentation: https://pandas.pydata.org/pandas-docs/stable/user_guide/indexing.html#returning-a-view-versus-a-copy\n",
      "  efx[\"pred1\"] = modela.fit(dfx[cols].values, dfx[target]).predict_proba(efx[cols].values)[:,1]\n",
      "/tmp/ipykernel_18/2102747675.py:8: SettingWithCopyWarning: \n",
      "A value is trying to be set on a copy of a slice from a DataFrame.\n",
      "Try using .loc[row_indexer,col_indexer] = value instead\n",
      "\n",
      "See the caveats in the documentation: https://pandas.pydata.org/pandas-docs/stable/user_guide/indexing.html#returning-a-view-versus-a-copy\n",
      "  efx[\"pred2\"] = modelb.fit(dfx[cols].values, dfx[target]).predict_proba(efx[cols].values)[:,1]\n",
      "/tmp/ipykernel_18/2102747675.py:9: SettingWithCopyWarning: \n",
      "A value is trying to be set on a copy of a slice from a DataFrame.\n",
      "Try using .loc[row_indexer,col_indexer] = value instead\n",
      "\n",
      "See the caveats in the documentation: https://pandas.pydata.org/pandas-docs/stable/user_guide/indexing.html#returning-a-view-versus-a-copy\n",
      "  efx[\"pred1b\"] = model2a.fit(dfx[cols].values, dfx[target]).predict_proba(efx[cols].values)[:,1]\n",
      "/tmp/ipykernel_18/2102747675.py:7: SettingWithCopyWarning: \n",
      "A value is trying to be set on a copy of a slice from a DataFrame.\n",
      "Try using .loc[row_indexer,col_indexer] = value instead\n",
      "\n",
      "See the caveats in the documentation: https://pandas.pydata.org/pandas-docs/stable/user_guide/indexing.html#returning-a-view-versus-a-copy\n",
      "  efx[\"pred1\"] = modela.fit(dfx[cols].values, dfx[target]).predict_proba(efx[cols].values)[:,1]\n",
      "/tmp/ipykernel_18/2102747675.py:8: SettingWithCopyWarning: \n",
      "A value is trying to be set on a copy of a slice from a DataFrame.\n",
      "Try using .loc[row_indexer,col_indexer] = value instead\n",
      "\n",
      "See the caveats in the documentation: https://pandas.pydata.org/pandas-docs/stable/user_guide/indexing.html#returning-a-view-versus-a-copy\n",
      "  efx[\"pred2\"] = modelb.fit(dfx[cols].values, dfx[target]).predict_proba(efx[cols].values)[:,1]\n",
      "/tmp/ipykernel_18/2102747675.py:9: SettingWithCopyWarning: \n",
      "A value is trying to be set on a copy of a slice from a DataFrame.\n",
      "Try using .loc[row_indexer,col_indexer] = value instead\n",
      "\n",
      "See the caveats in the documentation: https://pandas.pydata.org/pandas-docs/stable/user_guide/indexing.html#returning-a-view-versus-a-copy\n",
      "  efx[\"pred1b\"] = model2a.fit(dfx[cols].values, dfx[target]).predict_proba(efx[cols].values)[:,1]\n",
      "/tmp/ipykernel_18/2102747675.py:7: SettingWithCopyWarning: \n",
      "A value is trying to be set on a copy of a slice from a DataFrame.\n",
      "Try using .loc[row_indexer,col_indexer] = value instead\n",
      "\n",
      "See the caveats in the documentation: https://pandas.pydata.org/pandas-docs/stable/user_guide/indexing.html#returning-a-view-versus-a-copy\n",
      "  efx[\"pred1\"] = modela.fit(dfx[cols].values, dfx[target]).predict_proba(efx[cols].values)[:,1]\n",
      "/tmp/ipykernel_18/2102747675.py:8: SettingWithCopyWarning: \n",
      "A value is trying to be set on a copy of a slice from a DataFrame.\n",
      "Try using .loc[row_indexer,col_indexer] = value instead\n",
      "\n",
      "See the caveats in the documentation: https://pandas.pydata.org/pandas-docs/stable/user_guide/indexing.html#returning-a-view-versus-a-copy\n",
      "  efx[\"pred2\"] = modelb.fit(dfx[cols].values, dfx[target]).predict_proba(efx[cols].values)[:,1]\n",
      "/tmp/ipykernel_18/2102747675.py:9: SettingWithCopyWarning: \n",
      "A value is trying to be set on a copy of a slice from a DataFrame.\n",
      "Try using .loc[row_indexer,col_indexer] = value instead\n",
      "\n",
      "See the caveats in the documentation: https://pandas.pydata.org/pandas-docs/stable/user_guide/indexing.html#returning-a-view-versus-a-copy\n",
      "  efx[\"pred1b\"] = model2a.fit(dfx[cols].values, dfx[target]).predict_proba(efx[cols].values)[:,1]\n",
      "/tmp/ipykernel_18/2102747675.py:7: SettingWithCopyWarning: \n",
      "A value is trying to be set on a copy of a slice from a DataFrame.\n",
      "Try using .loc[row_indexer,col_indexer] = value instead\n",
      "\n",
      "See the caveats in the documentation: https://pandas.pydata.org/pandas-docs/stable/user_guide/indexing.html#returning-a-view-versus-a-copy\n",
      "  efx[\"pred1\"] = modela.fit(dfx[cols].values, dfx[target]).predict_proba(efx[cols].values)[:,1]\n",
      "/tmp/ipykernel_18/2102747675.py:8: SettingWithCopyWarning: \n",
      "A value is trying to be set on a copy of a slice from a DataFrame.\n",
      "Try using .loc[row_indexer,col_indexer] = value instead\n",
      "\n",
      "See the caveats in the documentation: https://pandas.pydata.org/pandas-docs/stable/user_guide/indexing.html#returning-a-view-versus-a-copy\n",
      "  efx[\"pred2\"] = modelb.fit(dfx[cols].values, dfx[target]).predict_proba(efx[cols].values)[:,1]\n",
      "/tmp/ipykernel_18/2102747675.py:9: SettingWithCopyWarning: \n",
      "A value is trying to be set on a copy of a slice from a DataFrame.\n",
      "Try using .loc[row_indexer,col_indexer] = value instead\n",
      "\n",
      "See the caveats in the documentation: https://pandas.pydata.org/pandas-docs/stable/user_guide/indexing.html#returning-a-view-versus-a-copy\n",
      "  efx[\"pred1b\"] = model2a.fit(dfx[cols].values, dfx[target]).predict_proba(efx[cols].values)[:,1]\n"
     ]
    }
   ],
   "source": [
    "# Initialize empty dataframe to store predictions from all folds\n",
    "predictions_from_folds=pd.DataFrame()\n",
    "# Iterate over folds\n",
    "for fold, (train_index, val_index) in enumerate(kf.split(df, df[target])):\n",
    "    dfx, efx = df.iloc[train_index], df.iloc[val_index]\n",
    "    # train and make predictions on train set\n",
    "    efx[\"pred1\"] = modela.fit(dfx[cols].values, dfx[target]).predict_proba(efx[cols].values)[:,1]\n",
    "    efx[\"pred2\"] = modelb.fit(dfx[cols].values, dfx[target]).predict_proba(efx[cols].values)[:,1]\n",
    "    efx[\"pred1b\"] = model2a.fit(dfx[cols].values, dfx[target]).predict_proba(efx[cols].values)[:,1]  \n",
    "    # make predictions on test set\n",
    "    tdf[\"pred1\"] = modela.predict_proba(tdf[cols].values)[:,1]\n",
    "    tdf[\"pred2\"] = modelb.predict_proba(tdf[cols].values)[:,1]\n",
    "    tdf[\"pred1b\"] = model2a.predict_proba(tdf[cols].values)[:,1]\n",
    "    # train meta-models and make final predictions \n",
    "    tdf[\"pred\"] = meta_model.fit(efx[meta_features], efx[target]).predict_proba(tdf[meta_features])[:, 1]\n",
    "    predictions_from_folds=pd.concat([predictions_from_folds,tdf],axis=0)"
   ]
  },
  {
   "cell_type": "markdown",
   "id": "b052a96c",
   "metadata": {
    "papermill": {
     "duration": 0.008963,
     "end_time": "2024-03-06T12:34:18.894258",
     "exception": false,
     "start_time": "2024-03-06T12:34:18.885295",
     "status": "completed"
    },
    "tags": []
   },
   "source": [
    "- # Submission"
   ]
  },
  {
   "cell_type": "code",
   "execution_count": 17,
   "id": "42969efb",
   "metadata": {
    "execution": {
     "iopub.execute_input": "2024-03-06T12:34:18.914855Z",
     "iopub.status.busy": "2024-03-06T12:34:18.914430Z",
     "iopub.status.idle": "2024-03-06T12:34:19.837689Z",
     "shell.execute_reply": "2024-03-06T12:34:19.836559Z"
    },
    "papermill": {
     "duration": 0.93683,
     "end_time": "2024-03-06T12:34:19.840367",
     "exception": false,
     "start_time": "2024-03-06T12:34:18.903537",
     "status": "completed"
    },
    "tags": []
   },
   "outputs": [],
   "source": [
    "# blend predictions from all folds\n",
    "final_predictions=predictions_from_folds.groupby(\"patient_id\").mean().reset_index()\n",
    "final_predictions[target]=final_predictions[\"pred\"].values\n",
    "final_predictions[ss.columns].to_csv(\"final_predictions.csv\",index=None)"
   ]
  },
  {
   "cell_type": "code",
   "execution_count": null,
   "id": "9e598be5",
   "metadata": {
    "papermill": {
     "duration": 0.009317,
     "end_time": "2024-03-06T12:34:19.859088",
     "exception": false,
     "start_time": "2024-03-06T12:34:19.849771",
     "status": "completed"
    },
    "tags": []
   },
   "outputs": [],
   "source": []
  },
  {
   "cell_type": "code",
   "execution_count": null,
   "id": "79765ed9",
   "metadata": {
    "papermill": {
     "duration": 0.00897,
     "end_time": "2024-03-06T12:34:19.877428",
     "exception": false,
     "start_time": "2024-03-06T12:34:19.868458",
     "status": "completed"
    },
    "tags": []
   },
   "outputs": [],
   "source": []
  },
  {
   "cell_type": "code",
   "execution_count": null,
   "id": "e918b35a",
   "metadata": {
    "papermill": {
     "duration": 0.008582,
     "end_time": "2024-03-06T12:34:19.895309",
     "exception": false,
     "start_time": "2024-03-06T12:34:19.886727",
     "status": "completed"
    },
    "tags": []
   },
   "outputs": [],
   "source": []
  },
  {
   "cell_type": "code",
   "execution_count": null,
   "id": "94006e05",
   "metadata": {
    "papermill": {
     "duration": 0.008795,
     "end_time": "2024-03-06T12:34:19.913068",
     "exception": false,
     "start_time": "2024-03-06T12:34:19.904273",
     "status": "completed"
    },
    "tags": []
   },
   "outputs": [],
   "source": []
  },
  {
   "cell_type": "code",
   "execution_count": null,
   "id": "6728aeb3",
   "metadata": {
    "papermill": {
     "duration": 0.008519,
     "end_time": "2024-03-06T12:34:19.930448",
     "exception": false,
     "start_time": "2024-03-06T12:34:19.921929",
     "status": "completed"
    },
    "tags": []
   },
   "outputs": [],
   "source": []
  },
  {
   "cell_type": "code",
   "execution_count": null,
   "id": "c1ed5dfa",
   "metadata": {
    "papermill": {
     "duration": 0.008591,
     "end_time": "2024-03-06T12:34:19.947933",
     "exception": false,
     "start_time": "2024-03-06T12:34:19.939342",
     "status": "completed"
    },
    "tags": []
   },
   "outputs": [],
   "source": []
  }
 ],
 "metadata": {
  "kaggle": {
   "accelerator": "none",
   "dataSources": [
    {
     "databundleVersionId": 7469115,
     "sourceId": 65862,
     "sourceType": "competition"
    }
   ],
   "dockerImageVersionId": 30664,
   "isGpuEnabled": false,
   "isInternetEnabled": true,
   "language": "python",
   "sourceType": "notebook"
  },
  "kernelspec": {
   "display_name": "Python 3",
   "language": "python",
   "name": "python3"
  },
  "language_info": {
   "codemirror_mode": {
    "name": "ipython",
    "version": 3
   },
   "file_extension": ".py",
   "mimetype": "text/x-python",
   "name": "python",
   "nbconvert_exporter": "python",
   "pygments_lexer": "ipython3",
   "version": "3.10.13"
  },
  "papermill": {
   "default_parameters": {},
   "duration": 454.083174,
   "end_time": "2024-03-06T12:34:20.882092",
   "environment_variables": {},
   "exception": null,
   "input_path": "__notebook__.ipynb",
   "output_path": "__notebook__.ipynb",
   "parameters": {},
   "start_time": "2024-03-06T12:26:46.798918",
   "version": "2.4.0"
  }
 },
 "nbformat": 4,
 "nbformat_minor": 5
}
